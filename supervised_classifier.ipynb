{
 "cells": [
  {
   "cell_type": "markdown",
   "metadata": {},
   "source": [
    "## Intro\n",
    "We will be using the 'bag-of-words' approach, vectorising each review, weighting with tf-idf and reducing with chi-squared. Following, extra pre-processing steps will be used in an attempt to improve the strongest model.\n",
    "\n",
    "#### Conclusions\n",
    "SVM proves stronger than Naive Bayes, and works best using chi-squared feature reduction without oversampling or lemmatisation with ~0.78 accuracy. Predictions are far less accurate on the less represented classes.\n",
    "\n",
    "#### Sections:\n",
    "1. Exploration: first section exploring the data and labels a little.\n",
    "2. Preprocessing: removing any uneccessary data and splitting the dataset.\n",
    "3. First classification: fitting Naive Bayes and a Linear SVM, vectorising with tf-idf and reducing dimensionality with chi-Square.\n",
    "4. Fitting a new SVM classifer using some extra text processing.\n",
    "5. SVM with Synthetic Oversampling.\n",
    "6. SVM Classifier with Lemmatisation (SpaCy).\n",
    "\n",
    "I've used bullet points for my interpretations in the markdown sections, just incase you're wondering why some use bullets and others don't."
   ]
  },
  {
   "cell_type": "code",
   "execution_count": 1,
   "metadata": {
    "collapsed": true
   },
   "outputs": [],
   "source": [
    "import numpy as np\n",
    "import pandas as pd\n",
    "import pickle\n",
    "from sklearn.feature_extraction.text import TfidfVectorizer\n",
    "from sklearn.svm import LinearSVC\n",
    "from sklearn.naive_bayes import MultinomialNB\n",
    "from sklearn.feature_selection import SelectKBest, chi2 \n",
    "from sklearn.pipeline import Pipeline\n",
    "import itertools\n",
    "from sklearn.metrics import confusion_matrix\n",
    "import matplotlib.pyplot as plt\n",
    "import seaborn as sns\n",
    "import string\n",
    "from imblearn.over_sampling import SMOTE\n",
    "import spacy\n",
    "\n",
    "\n",
    "with open('data/labelled_dataset.pickle', 'rb') as d:\n",
    "    data = pickle.load(d)"
   ]
  },
  {
   "cell_type": "markdown",
   "metadata": {},
   "source": [
    "### 1. Exploration\n",
    "Let's see if there's anything we need to think about before we split the dataset."
   ]
  },
  {
   "cell_type": "code",
   "execution_count": 2,
   "metadata": {
    "collapsed": false
   },
   "outputs": [
    {
     "data": {
      "text/html": [
       "<div>\n",
       "<table border=\"1\" class=\"dataframe\">\n",
       "  <thead>\n",
       "    <tr style=\"text-align: right;\">\n",
       "      <th></th>\n",
       "      <th>text</th>\n",
       "      <th>labelmax</th>\n",
       "    </tr>\n",
       "  </thead>\n",
       "  <tbody>\n",
       "    <tr>\n",
       "      <th>0</th>\n",
       "      <td>Pros - The people who work here are brilliant ...</td>\n",
       "      <td>customer</td>\n",
       "    </tr>\n",
       "    <tr>\n",
       "      <th>1</th>\n",
       "      <td>Pros Start-up vibes Fast growing company Tech-...</td>\n",
       "      <td>customer</td>\n",
       "    </tr>\n",
       "    <tr>\n",
       "      <th>2</th>\n",
       "      <td>Pros The team is great, I love the ambition of...</td>\n",
       "      <td>collaboration</td>\n",
       "    </tr>\n",
       "    <tr>\n",
       "      <th>3</th>\n",
       "      <td>Pros The company is constantly growing, and at...</td>\n",
       "      <td>adaptability</td>\n",
       "    </tr>\n",
       "    <tr>\n",
       "      <th>4</th>\n",
       "      <td>Pros Cool office. Friendly people. Good atmosp...</td>\n",
       "      <td>collaboration</td>\n",
       "    </tr>\n",
       "  </tbody>\n",
       "</table>\n",
       "</div>"
      ],
      "text/plain": [
       "                                                text       labelmax\n",
       "0  Pros - The people who work here are brilliant ...       customer\n",
       "1  Pros Start-up vibes Fast growing company Tech-...       customer\n",
       "2  Pros The team is great, I love the ambition of...  collaboration\n",
       "3  Pros The company is constantly growing, and at...   adaptability\n",
       "4  Pros Cool office. Friendly people. Good atmosp...  collaboration"
      ]
     },
     "execution_count": 2,
     "metadata": {},
     "output_type": "execute_result"
    }
   ],
   "source": [
    "data.head()"
   ]
  },
  {
   "cell_type": "code",
   "execution_count": 3,
   "metadata": {
    "collapsed": false
   },
   "outputs": [
    {
     "name": "stdout",
     "output_type": "stream",
     "text": [
      "<class 'pandas.core.frame.DataFrame'>\n",
      "RangeIndex: 91580 entries, 0 to 91579\n",
      "Data columns (total 2 columns):\n",
      "text        91580 non-null object\n",
      "labelmax    91580 non-null object\n",
      "dtypes: object(2)\n",
      "memory usage: 1.4+ MB\n"
     ]
    }
   ],
   "source": [
    "data.info()"
   ]
  },
  {
   "cell_type": "code",
   "execution_count": 4,
   "metadata": {
    "collapsed": false
   },
   "outputs": [
    {
     "data": {
      "text/html": [
       "<div>\n",
       "<table border=\"1\" class=\"dataframe\">\n",
       "  <thead>\n",
       "    <tr style=\"text-align: right;\">\n",
       "      <th>col_0</th>\n",
       "      <th>count</th>\n",
       "      <th>pc_of_total</th>\n",
       "    </tr>\n",
       "    <tr>\n",
       "      <th>labelmax</th>\n",
       "      <th></th>\n",
       "      <th></th>\n",
       "    </tr>\n",
       "  </thead>\n",
       "  <tbody>\n",
       "    <tr>\n",
       "      <th>adaptability</th>\n",
       "      <td>17204</td>\n",
       "      <td>19.0</td>\n",
       "    </tr>\n",
       "    <tr>\n",
       "      <th>collaboration</th>\n",
       "      <td>21067</td>\n",
       "      <td>23.0</td>\n",
       "    </tr>\n",
       "    <tr>\n",
       "      <th>customer</th>\n",
       "      <td>26981</td>\n",
       "      <td>29.0</td>\n",
       "    </tr>\n",
       "    <tr>\n",
       "      <th>detail</th>\n",
       "      <td>4030</td>\n",
       "      <td>4.0</td>\n",
       "    </tr>\n",
       "    <tr>\n",
       "      <th>integrity</th>\n",
       "      <td>2815</td>\n",
       "      <td>3.0</td>\n",
       "    </tr>\n",
       "    <tr>\n",
       "      <th>null</th>\n",
       "      <td>535</td>\n",
       "      <td>1.0</td>\n",
       "    </tr>\n",
       "    <tr>\n",
       "      <th>result</th>\n",
       "      <td>18948</td>\n",
       "      <td>21.0</td>\n",
       "    </tr>\n",
       "  </tbody>\n",
       "</table>\n",
       "</div>"
      ],
      "text/plain": [
       "col_0          count  pc_of_total\n",
       "labelmax                         \n",
       "adaptability   17204         19.0\n",
       "collaboration  21067         23.0\n",
       "customer       26981         29.0\n",
       "detail          4030          4.0\n",
       "integrity       2815          3.0\n",
       "null             535          1.0\n",
       "result         18948         21.0"
      ]
     },
     "execution_count": 4,
     "metadata": {},
     "output_type": "execute_result"
    }
   ],
   "source": [
    "cross_lab = pd.crosstab(index=data['labelmax'], columns='count')\n",
    "cross_lab['pc_of_total'] = round(cross_lab['count']/data['labelmax'].count()*100,0)\n",
    "cross_lab"
   ]
  },
  {
   "cell_type": "markdown",
   "metadata": {},
   "source": [
    "- So we can see there isn't a clear balance issue here, but it would be nice to slit a training set that shows a similar distribution. It would be optimal if the classifier could distinguish the less populus labels, eg. 'detail', 'integrity' and 'null', which it won't be able to do if there arn't enough of those in the training set.\n",
    "- We could just use the whole 'labelled_dataset' to train the classifier to be used on the 'unlabelled' set, but then of course we wouldn't be able to test accuracy before doing so."
   ]
  },
  {
   "cell_type": "code",
   "execution_count": 5,
   "metadata": {
    "collapsed": false
   },
   "outputs": [
    {
     "data": {
      "text/html": [
       "<div>\n",
       "<table border=\"1\" class=\"dataframe\">\n",
       "  <thead>\n",
       "    <tr style=\"text-align: right;\">\n",
       "      <th></th>\n",
       "      <th>text</th>\n",
       "      <th>labelmax</th>\n",
       "    </tr>\n",
       "  </thead>\n",
       "  <tbody>\n",
       "    <tr>\n",
       "      <th>288</th>\n",
       "      <td>Pros Auch wenn HelloFresh schon lange kein Start-up mehr ist, hat man oft noch die typisch \"dynamische\" Atmosphäre mitbekommen. Mich persönlich motiviert das. Cons Von meiner Seite aus keine Kontras.</td>\n",
       "      <td>null</td>\n",
       "    </tr>\n",
       "    <tr>\n",
       "      <th>295</th>\n",
       "      <td>Pros Vorgesetzte vertrauen einem, persönliche Weiterentwicklung, offene Arbeitsatmosphäre. Cons Manchmal wird zu lange diskutiert, ehe entschieden wird.</td>\n",
       "      <td>null</td>\n",
       "    </tr>\n",
       "    <tr>\n",
       "      <th>296</th>\n",
       "      <td>Pros Die Arbeitsatmosphäre ist offen und angenehm. Frühstück und Getränke werden bereitgestellt. Kurze Entscheidungswege und sehr flache Hierarchie. Cons Ab und an funktioniert das Internet nicht.</td>\n",
       "      <td>null</td>\n",
       "    </tr>\n",
       "    <tr>\n",
       "      <th>449</th>\n",
       "      <td>Pros The day I left, seriously. Cons Everything, everything, everything, everything and everything</td>\n",
       "      <td>null</td>\n",
       "    </tr>\n",
       "    <tr>\n",
       "      <th>923</th>\n",
       "      <td>Pros Mitglied der IG-Metall, gutes Gehalt, zusätzliche Leistungen wie Altersvorsorge Cons Sehr von Umstrukturierung geplagtes Unternehmen - momentan Stellenabbau</td>\n",
       "      <td>null</td>\n",
       "    </tr>\n",
       "  </tbody>\n",
       "</table>\n",
       "</div>"
      ],
      "text/plain": [
       "                                                                                                                                                                                                        text  \\\n",
       "288  Pros Auch wenn HelloFresh schon lange kein Start-up mehr ist, hat man oft noch die typisch \"dynamische\" Atmosphäre mitbekommen. Mich persönlich motiviert das. Cons Von meiner Seite aus keine Kontras.   \n",
       "295  Pros Vorgesetzte vertrauen einem, persönliche Weiterentwicklung, offene Arbeitsatmosphäre. Cons Manchmal wird zu lange diskutiert, ehe entschieden wird.                                                  \n",
       "296  Pros Die Arbeitsatmosphäre ist offen und angenehm. Frühstück und Getränke werden bereitgestellt. Kurze Entscheidungswege und sehr flache Hierarchie. Cons Ab und an funktioniert das Internet nicht.      \n",
       "449  Pros The day I left, seriously. Cons Everything, everything, everything, everything and everything                                                                                                        \n",
       "923  Pros Mitglied der IG-Metall, gutes Gehalt, zusätzliche Leistungen wie Altersvorsorge Cons Sehr von Umstrukturierung geplagtes Unternehmen - momentan Stellenabbau                                         \n",
       "\n",
       "    labelmax  \n",
       "288  null     \n",
       "295  null     \n",
       "296  null     \n",
       "449  null     \n",
       "923  null     "
      ]
     },
     "execution_count": 5,
     "metadata": {},
     "output_type": "execute_result"
    }
   ],
   "source": [
    "pd.set_option('display.max_colwidth', 1)\n",
    "data[data['labelmax']=='null'].head()"
   ]
  },
  {
   "cell_type": "markdown",
   "metadata": {},
   "source": [
    "- So the main concerns for building the model are the high number of 'null' and German reviews.\n",
    "\n",
    "- Most of the nulls are allocated to reviews that carry no insight, eg. 'No downsides'(id=8603), or where it's too hard to pinpoint a single label (catchphrases might also be too difficult to interpret), for example 'Pros All the resources in the world Cons Too many cooks in the kitchen'(id=8701) might be customer, detail or adaptability related.\n",
    "- We should keep the 'null' labels so the classifier knows what to call reviews if they don't fit with other labels.\n",
    "\n",
    "Lets see how many reviews are in German."
   ]
  },
  {
   "cell_type": "code",
   "execution_count": 6,
   "metadata": {
    "collapsed": false
   },
   "outputs": [
    {
     "data": {
      "text/html": [
       "<div>\n",
       "<table border=\"1\" class=\"dataframe\">\n",
       "  <thead>\n",
       "    <tr style=\"text-align: right;\">\n",
       "      <th>col_0</th>\n",
       "      <th>count</th>\n",
       "    </tr>\n",
       "    <tr>\n",
       "      <th>labelmax</th>\n",
       "      <th></th>\n",
       "    </tr>\n",
       "  </thead>\n",
       "  <tbody>\n",
       "    <tr>\n",
       "      <th>adaptability</th>\n",
       "      <td>260</td>\n",
       "    </tr>\n",
       "    <tr>\n",
       "      <th>collaboration</th>\n",
       "      <td>348</td>\n",
       "    </tr>\n",
       "    <tr>\n",
       "      <th>customer</th>\n",
       "      <td>676</td>\n",
       "    </tr>\n",
       "    <tr>\n",
       "      <th>detail</th>\n",
       "      <td>100</td>\n",
       "    </tr>\n",
       "    <tr>\n",
       "      <th>integrity</th>\n",
       "      <td>41</td>\n",
       "    </tr>\n",
       "    <tr>\n",
       "      <th>null</th>\n",
       "      <td>335</td>\n",
       "    </tr>\n",
       "    <tr>\n",
       "      <th>result</th>\n",
       "      <td>243</td>\n",
       "    </tr>\n",
       "  </tbody>\n",
       "</table>\n",
       "</div>"
      ],
      "text/plain": [
       "col_0          count\n",
       "labelmax            \n",
       "adaptability   260  \n",
       "collaboration  348  \n",
       "customer       676  \n",
       "detail         100  \n",
       "integrity      41   \n",
       "null           335  \n",
       "result         243  "
      ]
     },
     "execution_count": 6,
     "metadata": {},
     "output_type": "execute_result"
    }
   ],
   "source": [
    "german_vowels = ['ä','ü','ö']\n",
    "cross_ger = pd.crosstab(index=data['labelmax'][data['text'].str.contains('|'.join(german_vowels))], columns='count')\n",
    "cross_ger"
   ]
  },
  {
   "cell_type": "markdown",
   "metadata": {},
   "source": [
    "- A quick and dirty method, but we can see there are German reviews under each label.\n",
    "\n",
    "What are these as a percentage of overall reviews?"
   ]
  },
  {
   "cell_type": "code",
   "execution_count": 7,
   "metadata": {
    "collapsed": false
   },
   "outputs": [
    {
     "data": {
      "text/html": [
       "<div>\n",
       "<table border=\"1\" class=\"dataframe\">\n",
       "  <thead>\n",
       "    <tr style=\"text-align: right;\">\n",
       "      <th>col_0</th>\n",
       "      <th>count</th>\n",
       "      <th>pc</th>\n",
       "    </tr>\n",
       "    <tr>\n",
       "      <th>labelmax</th>\n",
       "      <th></th>\n",
       "      <th></th>\n",
       "    </tr>\n",
       "  </thead>\n",
       "  <tbody>\n",
       "    <tr>\n",
       "      <th>adaptability</th>\n",
       "      <td>260</td>\n",
       "      <td>2.0</td>\n",
       "    </tr>\n",
       "    <tr>\n",
       "      <th>collaboration</th>\n",
       "      <td>348</td>\n",
       "      <td>2.0</td>\n",
       "    </tr>\n",
       "    <tr>\n",
       "      <th>customer</th>\n",
       "      <td>676</td>\n",
       "      <td>3.0</td>\n",
       "    </tr>\n",
       "    <tr>\n",
       "      <th>detail</th>\n",
       "      <td>100</td>\n",
       "      <td>2.0</td>\n",
       "    </tr>\n",
       "    <tr>\n",
       "      <th>integrity</th>\n",
       "      <td>41</td>\n",
       "      <td>1.0</td>\n",
       "    </tr>\n",
       "    <tr>\n",
       "      <th>null</th>\n",
       "      <td>335</td>\n",
       "      <td>63.0</td>\n",
       "    </tr>\n",
       "    <tr>\n",
       "      <th>result</th>\n",
       "      <td>243</td>\n",
       "      <td>1.0</td>\n",
       "    </tr>\n",
       "  </tbody>\n",
       "</table>\n",
       "</div>"
      ],
      "text/plain": [
       "col_0          count    pc\n",
       "labelmax                  \n",
       "adaptability   260    2.0 \n",
       "collaboration  348    2.0 \n",
       "customer       676    3.0 \n",
       "detail         100    2.0 \n",
       "integrity      41     1.0 \n",
       "null           335    63.0\n",
       "result         243    1.0 "
      ]
     },
     "execution_count": 7,
     "metadata": {},
     "output_type": "execute_result"
    }
   ],
   "source": [
    "cross_ger['pc'] = round((cross_ger['count'] / cross_lab['count'])*100,0)\n",
    "cross_ger"
   ]
  },
  {
   "cell_type": "markdown",
   "metadata": {},
   "source": [
    "- It looks like it's a pretty even split aside from the 'null' label. So perhaps either the original classification method is poor at interpreting German reviews, or a much higher proportion of reviews in German carry no real insight."
   ]
  },
  {
   "cell_type": "markdown",
   "metadata": {},
   "source": [
    "### 2. Preprocessing\n",
    "Next we need to split our train and test datasets and vectorise the 'text' column to retrieve features for the classifier. But first, we will remove the German reviews. They are far fewer in qunatity, most of them are 'null' and tf-idf will only be able to account for English stop-words ('a','the' etc.)."
   ]
  },
  {
   "cell_type": "code",
   "execution_count": 8,
   "metadata": {
    "collapsed": false
   },
   "outputs": [
    {
     "data": {
      "text/plain": [
       "(89577, 2)"
      ]
     },
     "execution_count": 8,
     "metadata": {},
     "output_type": "execute_result"
    }
   ],
   "source": [
    "# remove reviews with german vowels\n",
    "data = data[~data['text'].str.contains('|'.join(german_vowels))]\n",
    "data.shape"
   ]
  },
  {
   "cell_type": "markdown",
   "metadata": {},
   "source": [
    "Convert all text to lower-case"
   ]
  },
  {
   "cell_type": "code",
   "execution_count": 9,
   "metadata": {
    "collapsed": true
   },
   "outputs": [],
   "source": [
    "data['text'] = data['text'].str.lower()"
   ]
  },
  {
   "cell_type": "markdown",
   "metadata": {},
   "source": [
    "Splitting into test and train sets."
   ]
  },
  {
   "cell_type": "code",
   "execution_count": 10,
   "metadata": {
    "collapsed": true
   },
   "outputs": [],
   "source": [
    "# Splitting data into train and test \n",
    "from sklearn.model_selection import train_test_split\n",
    "X = data['text']\n",
    "y = data['labelmax']\n",
    "X_train, X_test, y_train, y_test = train_test_split(X, y, test_size=0.2, random_state=2)"
   ]
  },
  {
   "cell_type": "markdown",
   "metadata": {},
   "source": [
    "sklearn should evenly split based on labels, but we can easily double-check."
   ]
  },
  {
   "cell_type": "code",
   "execution_count": 11,
   "metadata": {
    "collapsed": false
   },
   "outputs": [
    {
     "data": {
      "text/html": [
       "<div>\n",
       "<table border=\"1\" class=\"dataframe\">\n",
       "  <thead>\n",
       "    <tr style=\"text-align: right;\">\n",
       "      <th>col_0</th>\n",
       "      <th>count</th>\n",
       "      <th>pc_of_total</th>\n",
       "      <th>diff_from_pop</th>\n",
       "    </tr>\n",
       "    <tr>\n",
       "      <th>labelmax</th>\n",
       "      <th></th>\n",
       "      <th></th>\n",
       "      <th></th>\n",
       "    </tr>\n",
       "  </thead>\n",
       "  <tbody>\n",
       "    <tr>\n",
       "      <th>adaptability</th>\n",
       "      <td>13571</td>\n",
       "      <td>19.0</td>\n",
       "      <td>0.0</td>\n",
       "    </tr>\n",
       "    <tr>\n",
       "      <th>collaboration</th>\n",
       "      <td>16599</td>\n",
       "      <td>23.0</td>\n",
       "      <td>0.0</td>\n",
       "    </tr>\n",
       "    <tr>\n",
       "      <th>customer</th>\n",
       "      <td>21010</td>\n",
       "      <td>29.0</td>\n",
       "      <td>0.0</td>\n",
       "    </tr>\n",
       "    <tr>\n",
       "      <th>detail</th>\n",
       "      <td>3129</td>\n",
       "      <td>4.0</td>\n",
       "      <td>0.0</td>\n",
       "    </tr>\n",
       "    <tr>\n",
       "      <th>integrity</th>\n",
       "      <td>2214</td>\n",
       "      <td>3.0</td>\n",
       "      <td>0.0</td>\n",
       "    </tr>\n",
       "    <tr>\n",
       "      <th>null</th>\n",
       "      <td>171</td>\n",
       "      <td>0.0</td>\n",
       "      <td>1.0</td>\n",
       "    </tr>\n",
       "    <tr>\n",
       "      <th>result</th>\n",
       "      <td>14967</td>\n",
       "      <td>21.0</td>\n",
       "      <td>0.0</td>\n",
       "    </tr>\n",
       "  </tbody>\n",
       "</table>\n",
       "</div>"
      ],
      "text/plain": [
       "col_0          count  pc_of_total  diff_from_pop\n",
       "labelmax                                        \n",
       "adaptability   13571  19.0         0.0          \n",
       "collaboration  16599  23.0         0.0          \n",
       "customer       21010  29.0         0.0          \n",
       "detail         3129   4.0          0.0          \n",
       "integrity      2214   3.0          0.0          \n",
       "null           171    0.0          1.0          \n",
       "result         14967  21.0         0.0          "
      ]
     },
     "execution_count": 11,
     "metadata": {},
     "output_type": "execute_result"
    }
   ],
   "source": [
    "cross_train = pd.crosstab(index=y_train, columns='count')\n",
    "cross_train['pc_of_total'] = round(cross_train['count']/y_train.count()*100,0)\n",
    "cross_train['diff_from_pop'] = cross_lab['pc_of_total'] - cross_train['pc_of_total'] \n",
    "cross_train"
   ]
  },
  {
   "cell_type": "markdown",
   "metadata": {},
   "source": [
    "- We seem to have a closely comparable distribution for the training sample vs. the full dataset so we're good to go."
   ]
  },
  {
   "cell_type": "markdown",
   "metadata": {},
   "source": [
    "### 3. First Classification\n",
    "Now we have our features, it's time to build the classifier. In this instance we will be comparing multinomial naive bayes and linear support vector classifier, tuning the most effective model.\n",
    "- TfidfVectorizer will first create count vectors, then tf-idf will adjust weights for stop-words and comment length.\n",
    "- sublinear_tf means higher word frequency weights increase logorithmically, not absolute.\n",
    "- chi2 reduces our features to the most significant according to chi-squared test (5k words apparently a sweet spot after a little trial and error), thus helping remove usless words.\n",
    "- n_grams is commonly used parameter for tf-idf, but the extra meaning it gives doesn't improve the models in this case."
   ]
  },
  {
   "cell_type": "code",
   "execution_count": 12,
   "metadata": {
    "collapsed": false
   },
   "outputs": [
    {
     "data": {
      "text/plain": [
       "Pipeline(memory=None,\n",
       "     steps=[('tfidf', TfidfVectorizer(analyzer='word', binary=False, decode_error='strict',\n",
       "        dtype=<class 'numpy.int64'>, encoding='utf-8', input='content',\n",
       "        lowercase=True, max_df=1.0, max_features=None, min_df=1,\n",
       "        ngram_range=(1, 1), norm='l2', preprocessor=None, smooth_idf=True,\n",
       " ..., max_iter=1000,\n",
       "     multi_class='ovr', penalty='l2', random_state=2, tol=0.0001,\n",
       "     verbose=0))])"
      ]
     },
     "execution_count": 12,
     "metadata": {},
     "output_type": "execute_result"
    }
   ],
   "source": [
    "# naive bayes classifier\n",
    "NB_classifier = Pipeline([('tfidf', TfidfVectorizer(stop_words='english', sublinear_tf=True)),\n",
    "                       ('chi', SelectKBest(chi2, k=5000)),\n",
    "                       ('clf', MultinomialNB())])\n",
    "\n",
    "# svm classifier\n",
    "SVC_classifier = Pipeline([('tfidf', TfidfVectorizer(stop_words='english', sublinear_tf=True)),\n",
    "                       ('chi', SelectKBest(chi2, k=5000)),\n",
    "                       ('clf', LinearSVC(random_state=2))])\n",
    "\n",
    "# fitting both classifiers to training data\n",
    "NB_classifier.fit(X_train, y_train)\n",
    "SVC_classifier.fit(X_train, y_train)"
   ]
  },
  {
   "cell_type": "code",
   "execution_count": 13,
   "metadata": {
    "collapsed": false
   },
   "outputs": [
    {
     "data": {
      "text/plain": [
       "(0.5394061174369279, 0.77779638312123245)"
      ]
     },
     "execution_count": 13,
     "metadata": {},
     "output_type": "execute_result"
    }
   ],
   "source": [
    "# create predicted values using classifiers\n",
    "NB_pred = NB_classifier.predict(X_test)\n",
    "SVC_pred = SVC_classifier.predict(X_test)\n",
    "\n",
    "# % of successful predictions for model accuracy\n",
    "NB_accu = np.mean(NB_pred == y_test)\n",
    "SVC_accu = np.mean(SVC_pred == y_test)\n",
    "\n",
    "(NB_accu,SVC_accu)"
   ]
  },
  {
   "cell_type": "markdown",
   "metadata": {},
   "source": [
    "- The SVM performed better, so we will ignore the NB classifier in our next iterations.\n",
    "\n",
    "Let's see where the SVM model is making the mistakes."
   ]
  },
  {
   "cell_type": "code",
   "execution_count": 14,
   "metadata": {
    "collapsed": false
   },
   "outputs": [],
   "source": [
    "classes = list(data['labelmax'].unique())\n",
    "\n",
    "\n",
    "def confusion_vis(cm, classes, title):\n",
    "    '''visualising a normalised confusion matrix using example from sklearn docs'''\n",
    "    # normalise the numbers for easier comparison\n",
    "    cm = cm.astype('float') / cm1.sum(axis=1)[:, np.newaxis]\n",
    "    # visualisation\n",
    "    plt.imshow(cm, cmap=plt.cm.Blues)\n",
    "    plt.title(title)\n",
    "    tick_marks = np.arange(len(classes))\n",
    "    plt.xticks(tick_marks, classes, rotation=45)\n",
    "    plt.yticks(tick_marks, classes)\n",
    "    plt.ylabel('True label')\n",
    "    plt.xlabel('Predicted label')\n",
    "    plt.grid(False)\n",
    "    # making the number labels readable\n",
    "    thresh = cm.max() / 2.\n",
    "    for i, j in itertools.product(range(cm.shape[0]), range(cm.shape[1])):\n",
    "        plt.text(j, i, format(cm[i, j], '.2f'),\n",
    "                 horizontalalignment=\"center\",\n",
    "                 color=\"white\" if cm[i, j] > thresh else \"black\")"
   ]
  },
  {
   "cell_type": "code",
   "execution_count": 15,
   "metadata": {
    "collapsed": false
   },
   "outputs": [
    {
     "data": {
      "image/png": "[encoded data removed]",
      "text/plain": [
       "<matplotlib.figure.Figure at 0x1d480a6b320>"
      ]
     },
     "metadata": {},
     "output_type": "display_data"
    }
   ],
   "source": [
    "# create confusion matrix for SVM model\n",
    "cm1 = confusion_matrix(y_test, SVC_pred, classes)\n",
    "\n",
    "plt.figure()\n",
    "confusion_vis(cm1, classes, title='confusion matrix')\n",
    "plt.show()"
   ]
  },
  {
   "cell_type": "markdown",
   "metadata": {},
   "source": [
    "- It's clear the model is under-predicting the classes with the fewest observations in the training set ('detail', 'integrity').\n",
    "\n",
    "Now we will take some steps to see if we can improve model accuracy and performance. First, seeing if the text should be cleaned further, followed by oversampling to avoid under-predicting the minority classes."
   ]
  },
  {
   "cell_type": "markdown",
   "metadata": {},
   "source": [
    "### 4. Fitting a new SVM classifer using some extra text processing\n",
    "Let's see if the classifier works better if we clean-up the text a bit further.\n",
    "Extra steps:\n",
    "1. Removing punctuation\n",
    "2. All to lower case\n",
    "3. Removing standard Glassdoor headings ('pros','cons','advice')"
   ]
  },
  {
   "cell_type": "code",
   "execution_count": 16,
   "metadata": {
    "collapsed": false
   },
   "outputs": [
    {
     "data": {
      "text/html": [
       "<div>\n",
       "<table border=\"1\" class=\"dataframe\">\n",
       "  <thead>\n",
       "    <tr style=\"text-align: right;\">\n",
       "      <th></th>\n",
       "      <th>text</th>\n",
       "      <th>labelmax</th>\n",
       "    </tr>\n",
       "  </thead>\n",
       "  <tbody>\n",
       "    <tr>\n",
       "      <th>0</th>\n",
       "      <td>the people who work here are brilliant intelligent hardworking etc  exciting career opportunities plenty of room to grow  great company culture social events etc  management really value everyones opinion and are open to ideas  ambitious company always working to grow and improve  i feel like my work is really valued and outstanding performance is always recognised by management   salary isnt great compared to other grad jobs hopefully this will improve as the company grows  occasionally have to work weekends would much rather there was a separate weekend team  communication could be better about changes in the company future plans etc   keep listening to your employees  dont become cold and corporate airsorted needs to keep the company spirit even when it is a big global company</td>\n",
       "      <td>customer</td>\n",
       "    </tr>\n",
       "    <tr>\n",
       "      <th>1</th>\n",
       "      <td>startup vibes fast growing company techoriented lively atmosphere the managers are down to earth managers are open to ideas from all employees young and friendly colleagues fun social outings ambitious company  not the best pay hopefully this will increase soon as the company grows communications across teams could improve</td>\n",
       "      <td>customer</td>\n",
       "    </tr>\n",
       "  </tbody>\n",
       "</table>\n",
       "</div>"
      ],
      "text/plain": [
       "                                                                                                                                                                                                                                                                                                                                                                                                                                                                                                                                                                                                                                                                                                                                                                                                                       text  \\\n",
       "0    the people who work here are brilliant intelligent hardworking etc  exciting career opportunities plenty of room to grow  great company culture social events etc  management really value everyones opinion and are open to ideas  ambitious company always working to grow and improve  i feel like my work is really valued and outstanding performance is always recognised by management   salary isnt great compared to other grad jobs hopefully this will improve as the company grows  occasionally have to work weekends would much rather there was a separate weekend team  communication could be better about changes in the company future plans etc   keep listening to your employees  dont become cold and corporate airsorted needs to keep the company spirit even when it is a big global company   \n",
       "1   startup vibes fast growing company techoriented lively atmosphere the managers are down to earth managers are open to ideas from all employees young and friendly colleagues fun social outings ambitious company  not the best pay hopefully this will increase soon as the company grows communications across teams could improve                                                                                                                                                                                                                                                                                                                                                                                                                                                                                      \n",
       "\n",
       "   labelmax  \n",
       "0  customer  \n",
       "1  customer  "
      ]
     },
     "execution_count": 16,
     "metadata": {},
     "output_type": "execute_result"
    }
   ],
   "source": [
    "# Punctuation wont add anything to our model in our case, \n",
    "# so lets remove that (bare in mind that string.puncutation() can only be used on English text).\n",
    "def no_punc(review):\n",
    "    for punc in string.punctuation:\n",
    "        review = review.replace(punc, '')\n",
    "    return review\n",
    "\n",
    "# create copy of data (German reviews have already been removed)\n",
    "data2 = data.copy()\n",
    "data2['text'] = data2['text'].apply(no_punc)\n",
    "\n",
    "# We also have the headings for the sections that break-up each glassdoor review (pros,cons..etc.), \n",
    "# so even though they should get filtered out with the chi-squared method later, we can nip it in the bud right now. \n",
    "headings = ['pros','cons','advice to management']\n",
    "\n",
    "def remove_headings(review):\n",
    "    for heading in headings:\n",
    "        review = review.replace(heading, '')\n",
    "    return review\n",
    "\n",
    "data2['text'] = data2['text'].apply(remove_headings)\n",
    "\n",
    "# quick glance to see if the text is as expected\n",
    "data2.head(2)"
   ]
  },
  {
   "cell_type": "markdown",
   "metadata": {},
   "source": [
    "- The new text looks like it's cleaned as expected.\n",
    "\n",
    "Running through the same process as before to get our new classifier up and running."
   ]
  },
  {
   "cell_type": "code",
   "execution_count": 17,
   "metadata": {
    "collapsed": true
   },
   "outputs": [],
   "source": [
    "X2 = data2['text']\n",
    "y2 = data2['labelmax']\n",
    "\n",
    "# splitting the new dataframe\n",
    "X_train2, X_test2, y_train2, y_test2 = train_test_split(X2, y2, test_size=0.2, random_state=2)"
   ]
  },
  {
   "cell_type": "markdown",
   "metadata": {},
   "source": [
    "Fitting the new SVM classifier."
   ]
  },
  {
   "cell_type": "code",
   "execution_count": 18,
   "metadata": {
    "collapsed": false
   },
   "outputs": [],
   "source": [
    "# new svm classifier\n",
    "SVC_classifier2 = Pipeline([('tfidf2', TfidfVectorizer(stop_words='english', sublinear_tf=True)),\n",
    "                       ('chi', SelectKBest(chi2, k=5000)),\n",
    "                       ('clf', LinearSVC(random_state=2))])\n",
    "\n",
    "SVC_classifier2.fit(X_train2, y_train2)\n",
    "SVC_test_pred2 = SVC_classifier2.predict(X_test2)"
   ]
  },
  {
   "cell_type": "markdown",
   "metadata": {},
   "source": [
    "Do we manage a better score?"
   ]
  },
  {
   "cell_type": "code",
   "execution_count": 19,
   "metadata": {
    "collapsed": false
   },
   "outputs": [
    {
     "data": {
      "text/plain": [
       "0.75982362134405002"
      ]
     },
     "execution_count": 19,
     "metadata": {},
     "output_type": "execute_result"
    }
   ],
   "source": [
    "SVC_accu2 = np.mean(SVC_test_pred2 == y_test2)\n",
    "SVC_accu2"
   ]
  },
  {
   "cell_type": "markdown",
   "metadata": {},
   "source": [
    "- The score is a little lower, so we may have cleaned the text a bit too much in this instance. "
   ]
  },
  {
   "cell_type": "markdown",
   "metadata": {
    "collapsed": true
   },
   "source": [
    "### 5. SVM with Synthetic Oversampling\n",
    "\n",
    "Recall from the original exploration there were far fewer cases of the 'detail' and 'integrity' classes, causing the SVM model to under-predict these in our test set.\n",
    "\n",
    "We will create synthetic observations to bring the ratio up to 1, and see if the improved balance reflects in the model. SMOTE does this by finding k-nearest-neighbours of the minority classes, randomly choosing one to tweak into a new observation.\n",
    "\n",
    "A couple of things to note here:\n",
    "- Must be careful to only oversample on training data to avoid leaking perfect matches into the test set.\n",
    "- SMOTE needs the train and test sets to be vectorised before fit and predict."
   ]
  },
  {
   "cell_type": "code",
   "execution_count": 20,
   "metadata": {
    "collapsed": false
   },
   "outputs": [],
   "source": [
    "# Our new pipeline, which only vectorizes and cleans (chi2)\n",
    "pipe = Pipeline([('tfidf', TfidfVectorizer(stop_words='english', sublinear_tf=True)),\n",
    "                       ('chi', SelectKBest(chi2, k=5000))])\n",
    "\n",
    "# vectorize the entire dataset and split \n",
    "# unlike our previous models, the classifier must use floats for predictions once oversampled\n",
    "X_vec = pipe.fit_transform(X, y)\n",
    "X_train, X_test, y_train, y_test = train_test_split(X_vec, y, test_size=0.2, random_state=2)"
   ]
  },
  {
   "cell_type": "code",
   "execution_count": 21,
   "metadata": {
    "collapsed": false
   },
   "outputs": [
    {
     "name": "stderr",
     "output_type": "stream",
     "text": [
      "C:\\Users\\Oliver\\Anaconda3\\lib\\site-packages\\sklearn\\utils\\deprecation.py:77: DeprecationWarning: Function _ratio_float is deprecated; Use a float for 'ratio' is deprecated from version 0.2. The support will be removed in 0.4. Use a dict, str, or a callable instead.\n",
      "  warnings.warn(msg, category=DeprecationWarning)\n"
     ]
    }
   ],
   "source": [
    "# fitting the oversample to training set\n",
    "sm = SMOTE(random_state=2, ratio=1.0)\n",
    "X_train_res, y_train_res = sm.fit_sample(X_train, y_train)"
   ]
  },
  {
   "cell_type": "markdown",
   "metadata": {},
   "source": [
    "Let's check if it worked."
   ]
  },
  {
   "cell_type": "code",
   "execution_count": 22,
   "metadata": {
    "collapsed": false
   },
   "outputs": [
    {
     "data": {
      "text/html": [
       "<div>\n",
       "<table border=\"1\" class=\"dataframe\">\n",
       "  <thead>\n",
       "    <tr style=\"text-align: right;\">\n",
       "      <th>col_0</th>\n",
       "      <th>count</th>\n",
       "    </tr>\n",
       "    <tr>\n",
       "      <th>row_0</th>\n",
       "      <th></th>\n",
       "    </tr>\n",
       "  </thead>\n",
       "  <tbody>\n",
       "    <tr>\n",
       "      <th>adaptability</th>\n",
       "      <td>21010</td>\n",
       "    </tr>\n",
       "    <tr>\n",
       "      <th>collaboration</th>\n",
       "      <td>21010</td>\n",
       "    </tr>\n",
       "    <tr>\n",
       "      <th>customer</th>\n",
       "      <td>21010</td>\n",
       "    </tr>\n",
       "    <tr>\n",
       "      <th>detail</th>\n",
       "      <td>21010</td>\n",
       "    </tr>\n",
       "    <tr>\n",
       "      <th>integrity</th>\n",
       "      <td>21010</td>\n",
       "    </tr>\n",
       "    <tr>\n",
       "      <th>null</th>\n",
       "      <td>21010</td>\n",
       "    </tr>\n",
       "    <tr>\n",
       "      <th>result</th>\n",
       "      <td>21010</td>\n",
       "    </tr>\n",
       "  </tbody>\n",
       "</table>\n",
       "</div>"
      ],
      "text/plain": [
       "col_0          count\n",
       "row_0               \n",
       "adaptability   21010\n",
       "collaboration  21010\n",
       "customer       21010\n",
       "detail         21010\n",
       "integrity      21010\n",
       "null           21010\n",
       "result         21010"
      ]
     },
     "execution_count": 22,
     "metadata": {},
     "output_type": "execute_result"
    }
   ],
   "source": [
    "pd.crosstab(index=y_train_res, columns='count')"
   ]
  },
  {
   "cell_type": "markdown",
   "metadata": {},
   "source": [
    "- All 'minority' classes now have synthetic observations which bring their counts up to the largest class 'customer'."
   ]
  },
  {
   "cell_type": "code",
   "execution_count": 23,
   "metadata": {
    "collapsed": false
   },
   "outputs": [
    {
     "data": {
      "text/plain": [
       "LinearSVC(C=1.0, class_weight=None, dual=True, fit_intercept=True,\n",
       "     intercept_scaling=1, loss='squared_hinge', max_iter=1000,\n",
       "     multi_class='ovr', penalty='l2', random_state=2, tol=0.0001,\n",
       "     verbose=0)"
      ]
     },
     "execution_count": 23,
     "metadata": {},
     "output_type": "execute_result"
    }
   ],
   "source": [
    "# the new classifier\n",
    "SVC_clf = LinearSVC(random_state=2)\n",
    "SVC_clf.fit(X_train_res, y_train_res)"
   ]
  },
  {
   "cell_type": "code",
   "execution_count": 24,
   "metadata": {
    "collapsed": false
   },
   "outputs": [
    {
     "data": {
      "text/plain": [
       "0.75625139540075914"
      ]
     },
     "execution_count": 24,
     "metadata": {},
     "output_type": "execute_result"
    }
   ],
   "source": [
    "SVC_clf.score(X_test, y_test)"
   ]
  },
  {
   "cell_type": "markdown",
   "metadata": {},
   "source": [
    "- A poorer score than the original.\n",
    "- The process here is not particularly practical in real-world scenarios: the unseen data must come in the same shape as training set, ie. we must preempt words that will be used in the future."
   ]
  },
  {
   "cell_type": "markdown",
   "metadata": {},
   "source": [
    "### 6. SVM Classifier with Lemmatisation\n",
    "It's highly likely that the 'bag-of-words' that we have created includes inflection forms of words. So we might have 3 features: adapt, adaptable, adaptability; when it would be helpful to have only 1 in this instance so the tf-idf vectoriser can more accurately weight the feature. \n",
    "\n",
    "##### Lemmatisation vs Stemming \n",
    "- Stemming approaches each word exclusively, cutting off the ends to get something like 'adapt' in this case; whereas Lemmatisation is a network of English words, which allows the method to consider the context before replacing anything. \n",
    "- Intuitively we might not care if our method reduces [adapt, adaptable, adaptability] to gibberish like 'adap', because we still reduce the 3 features to 1. But, what if it reduces 'adaptor' to 'adap' as well? That's where Lemmatisation might improve on the stemmer approach in our case.\n",
    "\n",
    "\n",
    "Let's see if using a lemmatiser makes a difference."
   ]
  },
  {
   "cell_type": "code",
   "execution_count": 25,
   "metadata": {
    "collapsed": false
   },
   "outputs": [
    {
     "data": {
      "text/html": [
       "<div>\n",
       "<table border=\"1\" class=\"dataframe\">\n",
       "  <thead>\n",
       "    <tr style=\"text-align: right;\">\n",
       "      <th></th>\n",
       "      <th>text</th>\n",
       "      <th>labelmax</th>\n",
       "    </tr>\n",
       "  </thead>\n",
       "  <tbody>\n",
       "    <tr>\n",
       "      <th>0</th>\n",
       "      <td>pros - the people who work here are brilliant (intelligent, hard-working etc.) - exciting career opportunities, plenty of room to grow! - great company culture, social events etc. - management really value everyone's opinion and are open to ideas - ambitious company, always working to grow and improve - i feel like my work is really valued, and outstanding performance is always recognised by management cons - salary isn't great compared to other grad jobs, hopefully this will improve as the company grows - occasionally have to work weekends, would much rather there was a separate weekend team - communication could be better about changes in the company, future plans etc. advice to management - keep listening to your employees - don't become cold and corporate. airsorted needs to keep the company spirit, even when it is a big global company.</td>\n",
       "      <td>customer</td>\n",
       "    </tr>\n",
       "  </tbody>\n",
       "</table>\n",
       "</div>"
      ],
      "text/plain": [
       "                                                                                                                                                                                                                                                                                                                                                                                                                                                                                                                                                                                                                                                                                                                                                                                                                                                                                   text  \\\n",
       "0  pros - the people who work here are brilliant (intelligent, hard-working etc.) - exciting career opportunities, plenty of room to grow! - great company culture, social events etc. - management really value everyone's opinion and are open to ideas - ambitious company, always working to grow and improve - i feel like my work is really valued, and outstanding performance is always recognised by management cons - salary isn't great compared to other grad jobs, hopefully this will improve as the company grows - occasionally have to work weekends, would much rather there was a separate weekend team - communication could be better about changes in the company, future plans etc. advice to management - keep listening to your employees - don't become cold and corporate. airsorted needs to keep the company spirit, even when it is a big global company.   \n",
       "\n",
       "   labelmax  \n",
       "0  customer  "
      ]
     },
     "execution_count": 25,
     "metadata": {},
     "output_type": "execute_result"
    }
   ],
   "source": [
    "data4 = data.copy()\n",
    "data4.head(1)"
   ]
  },
  {
   "cell_type": "code",
   "execution_count": 26,
   "metadata": {
    "collapsed": false
   },
   "outputs": [
    {
     "name": "stdout",
     "output_type": "stream",
     "text": [
      "Wall time: 4min 19s\n"
     ]
    }
   ],
   "source": [
    "nlp = spacy.load('en')\n",
    "\n",
    "# filter out the tokens we don't want to lemmatise using \n",
    "def token_filter(token):\n",
    "    return not (token.is_punct | token.is_space | token.is_stop | len(token.text) <= 4)\n",
    "\n",
    "%time data4['lam_text'] = data4['text'].apply(lambda row: [w.lemma_ for w in nlp.tokenizer(row) if token_filter(w)])\n"
   ]
  },
  {
   "cell_type": "markdown",
   "metadata": {},
   "source": [
    "- One thing to note on speed: use nlp.tokenizer to access the lemmatizer tokens, otherwise the nlp object here runs the entire SpaCy pipeline.\n",
    "\n",
    "Let's see how our first review looks now."
   ]
  },
  {
   "cell_type": "code",
   "execution_count": 27,
   "metadata": {
    "collapsed": false
   },
   "outputs": [
    {
     "data": {
      "text/html": [
       "<div>\n",
       "<table border=\"1\" class=\"dataframe\">\n",
       "  <thead>\n",
       "    <tr style=\"text-align: right;\">\n",
       "      <th></th>\n",
       "      <th>text</th>\n",
       "      <th>labelmax</th>\n",
       "      <th>lam_text</th>\n",
       "    </tr>\n",
       "  </thead>\n",
       "  <tbody>\n",
       "    <tr>\n",
       "      <th>0</th>\n",
       "      <td>pros - the people who work here are brilliant (intelligent, hard-working etc.) - exciting career opportunities, plenty of room to grow! - great company culture, social events etc. - management really value everyone's opinion and are open to ideas - ambitious company, always working to grow and improve - i feel like my work is really valued, and outstanding performance is always recognised by management cons - salary isn't great compared to other grad jobs, hopefully this will improve as the company grows - occasionally have to work weekends, would much rather there was a separate weekend team - communication could be better about changes in the company, future plans etc. advice to management - keep listening to your employees - don't become cold and corporate. airsorted needs to keep the company spirit, even when it is a big global company.</td>\n",
       "      <td>customer</td>\n",
       "      <td>[people, here, brilliant, intelligent, work, excite, career, opportunity, plenty, great, company, culture, social, event, management, really, value, everyone, opinion, idea, ambitious, company, always, work, improve, really, value, outstanding, performance, always, recognise, management, salary, great, compare, other, hopefully, this, will, improve, company, grow, occasionally, have, weekend, would, much, rather, there, separate, weekend, communication, can, well, about, change, company, future, plan, advice, management, keep, listen, your, employee, become, corporate, airsorted, need, keep, company, spirit, even, when, global, company]</td>\n",
       "    </tr>\n",
       "  </tbody>\n",
       "</table>\n",
       "</div>"
      ],
      "text/plain": [
       "                                                                                                                                                                                                                                                                                                                                                                                                                                                                                                                                                                                                                                                                                                                                                                                                                                                                                   text  \\\n",
       "0  pros - the people who work here are brilliant (intelligent, hard-working etc.) - exciting career opportunities, plenty of room to grow! - great company culture, social events etc. - management really value everyone's opinion and are open to ideas - ambitious company, always working to grow and improve - i feel like my work is really valued, and outstanding performance is always recognised by management cons - salary isn't great compared to other grad jobs, hopefully this will improve as the company grows - occasionally have to work weekends, would much rather there was a separate weekend team - communication could be better about changes in the company, future plans etc. advice to management - keep listening to your employees - don't become cold and corporate. airsorted needs to keep the company spirit, even when it is a big global company.   \n",
       "\n",
       "   labelmax  \\\n",
       "0  customer   \n",
       "\n",
       "                                                                                                                                                                                                                                                                                                                                                                                                                                                                                                                                                                                                                                                               lam_text  \n",
       "0  [people, here, brilliant, intelligent, work, excite, career, opportunity, plenty, great, company, culture, social, event, management, really, value, everyone, opinion, idea, ambitious, company, always, work, improve, really, value, outstanding, performance, always, recognise, management, salary, great, compare, other, hopefully, this, will, improve, company, grow, occasionally, have, weekend, would, much, rather, there, separate, weekend, communication, can, well, about, change, company, future, plan, advice, management, keep, listen, your, employee, become, corporate, airsorted, need, keep, company, spirit, even, when, global, company]  "
      ]
     },
     "execution_count": 27,
     "metadata": {},
     "output_type": "execute_result"
    }
   ],
   "source": [
    "data4.head(1)"
   ]
  },
  {
   "cell_type": "markdown",
   "metadata": {},
   "source": [
    "Good, next we need to split and run the classifier."
   ]
  },
  {
   "cell_type": "code",
   "execution_count": 28,
   "metadata": {
    "collapsed": false
   },
   "outputs": [],
   "source": [
    "# split \n",
    "X4 = data4['lam_text']\n",
    "y4 = data4['labelmax']\n",
    "\n",
    "X_train4, X_test4, y_train4, y_test4 = train_test_split(X4, y4, test_size=0.2, random_state=2)"
   ]
  },
  {
   "cell_type": "code",
   "execution_count": 35,
   "metadata": {
    "collapsed": true
   },
   "outputs": [],
   "source": [
    "# dummy function for tfidf to accept pre-tokenized reviews\n",
    "def dummy(doc):\n",
    "    return doc\n",
    "\n",
    "# fresh pipeline with tokenizer and preprocessor taking the pre-tokenized reviews\n",
    "SVC_classifier4 = Pipeline([('tfidf', TfidfVectorizer(stop_words='english', sublinear_tf=True, tokenizer=dummy, preprocessor=dummy)),\n",
    "                            ('chi', SelectKBest(chi2, k=5000)),\n",
    "                            ('clf', LinearSVC(random_state=2))])"
   ]
  },
  {
   "cell_type": "code",
   "execution_count": 36,
   "metadata": {
    "collapsed": false
   },
   "outputs": [
    {
     "data": {
      "text/plain": [
       "Pipeline(memory=None,\n",
       "     steps=[('tfidf', TfidfVectorizer(analyzer='word', binary=False, decode_error='strict',\n",
       "        dtype=<class 'numpy.int64'>, encoding='utf-8', input='content',\n",
       "        lowercase=True, max_df=1.0, max_features=None, min_df=1,\n",
       "        ngram_range=(1, 1), norm='l2',\n",
       "        preprocessor=<function dummy ..., max_iter=1000,\n",
       "     multi_class='ovr', penalty='l2', random_state=2, tol=0.0001,\n",
       "     verbose=0))])"
      ]
     },
     "execution_count": 36,
     "metadata": {},
     "output_type": "execute_result"
    }
   ],
   "source": [
    "SVC_classifier4.fit(X_train4, y_train4)"
   ]
  },
  {
   "cell_type": "code",
   "execution_count": 34,
   "metadata": {
    "collapsed": false
   },
   "outputs": [
    {
     "data": {
      "text/plain": [
       "0.6542755079258763"
      ]
     },
     "execution_count": 34,
     "metadata": {},
     "output_type": "execute_result"
    }
   ],
   "source": [
    "SVC_classifier4.score(X_test4, y_test4)"
   ]
  },
  {
   "cell_type": "markdown",
   "metadata": {},
   "source": [
    "- Our model has become considerably less accurate. \n",
    "\n",
    "Let's have a quick look to see what's changed per class."
   ]
  },
  {
   "cell_type": "code",
   "execution_count": 37,
   "metadata": {
    "collapsed": false
   },
   "outputs": [
    {
     "data": {
      "image/png": "[encoded data removed]",
      "text/plain": [
       "<matplotlib.figure.Figure at 0x1d48cc5d128>"
      ]
     },
     "metadata": {},
     "output_type": "display_data"
    }
   ],
   "source": [
    "SVC_pred4 = SVC_classifier4.predict(X_test4)\n",
    "\n",
    "# create confusion matrix for SVM model\n",
    "cm2 = confusion_matrix(y_test4, SVC_pred4, classes)\n",
    "\n",
    "plt.figure()\n",
    "confusion_vis(cm2, classes, title='confusion matrix after lemmatization')\n",
    "plt.show()"
   ]
  }
 ],
 "metadata": {
  "kernelspec": {
   "display_name": "Python 3",
   "language": "python",
   "name": "python3"
  },
  "language_info": {
   "codemirror_mode": {
    "name": "ipython",
    "version": 3
   },
   "file_extension": ".py",
   "mimetype": "text/x-python",
   "name": "python",
   "nbconvert_exporter": "python",
   "pygments_lexer": "ipython3",
   "version": "3.6.0"
  }
 },
 "nbformat": 4,
 "nbformat_minor": 0
}
